{
 "cells": [
  {
   "cell_type": "markdown",
   "id": "d5563284",
   "metadata": {},
   "source": [
    "# Dynamic Programming\n",
    "- Can be used to \"plan\" i.e. $\\pi^*$ or $V^*$ find when MDP $(S, P, d, R, A)$ is fully known\n",
    "    - 1) Policy Evaluation / Prediction - for $\\pi$, find $V^\\pi$\n",
    "    - 2) Policy Iteration / Control - Find $\\pi^*$\n",
    "    - 3) Value Iteration / Control -  Find $V^*$"
   ]
  },
  {
   "cell_type": "code",
   "execution_count": 1,
   "id": "74094bc6",
   "metadata": {},
   "outputs": [],
   "source": [
    "import numpy as np\n",
    "import matplotlib.pyplot as plt\n",
    "plt.rcParams[\"figure.figsize\"] = (30, 10)\n",
    "plt.rcParams['font.size']=20"
   ]
  },
  {
   "cell_type": "markdown",
   "id": "40531046",
   "metadata": {},
   "source": [
    "# 2) Policy Iteration\n",
    "\n",
    "\n",
    "- Given a MDP $(S, P, d, R, A)$ we want to find $\\pi^*$\n",
    "- Begin with an arbitrary policy $\\pi_{0}$ and then fully evaluate: \n",
    "- Find $V^\\pi_{0}(s)$, $Q^\\pi_{k}(s,a)$ and update policy by $\\pi_{k+1}(s) = argmax_{a} Q^{\\pi_{k}}(s,a)$\n"
   ]
  },
  {
   "cell_type": "code",
   "execution_count": 39,
   "id": "c3825610",
   "metadata": {},
   "outputs": [
    {
     "name": "stdout",
     "output_type": "stream",
     "text": [
      "[673.93939394 716.36363636]\n",
      "[[650.24242424 770.54545455]\n",
      " [645.24242424 710.54545455]]\n",
      "[[1. 0.]\n",
      " [1. 0.]]\n"
     ]
    }
   ],
   "source": [
    "# Simple MDP\n",
    "S = np.array([0, 2]) \n",
    "A = np.array([100, 200])\n",
    "P = np.array([[[0.5, 0.5],   # P given a=0\n",
    "              [0.8, 0.2]], \n",
    "     \n",
    "             [[0.2, 0.8],   # P given a=0\n",
    "              [0.4, 0.6]]] \n",
    " \n",
    "             )\n",
    "R = np.array([[10, 90], \n",
    "               [5, 30]])\n",
    "d = 0.95\n",
    "s0 = 0\n",
    "T = 100\n",
    "\n",
    "def discountedSum(R, d):\n",
    "    sum = 0\n",
    "    for i, r in enumerate(R):\n",
    "        sum += R[i] * (d ** i)\n",
    "    return sum\n",
    "\n",
    "pi_old = np.array([[0.5, 0.5], \n",
    "               [0.5, 0.5]])\n",
    "pi_new = np.empty((2,2))\n",
    "Q = np.empty((A.shape[0], S.shape[0]))\n",
    "V_new = np.zeros(S.shape[0])\n",
    "V_old = np.ones(S.shape[0])\n",
    "HS = np.zeros(T+1).astype(int)\n",
    "HR = np.zeros(T).astype(int)\n",
    "HA = np.zeros(T).astype(int)\n",
    "HG = np.zeros(T).astype(int)\n",
    "HV = np.zeros(T).astype(int)\n",
    "HS[0] = s0\n",
    "\n",
    "# Find V of pi\n",
    "N = 1000 # iterations\n",
    "for i_n in range(N):\n",
    "    for i_s, s in enumerate(S):\n",
    "        V_new[i_s] = np.dot(pi_old[i_s], R[:, i_s] + d * np.dot(P[:, i_s, :], V_old))\n",
    "    V_old = V_new.copy()\n",
    "\n",
    "# Find Q of pi\n",
    "for i_s, s in enumerate(S):\n",
    "    for i_a, a in enumerate(A):\n",
    "        Q[i_a, i_s] = R[i_a, i_s] + d * np.sum(np.dot(P[i_a, i_s, :], V_new[i_s]))\n",
    "        \n",
    "# Update Poicy\n",
    "for i_s, s in enumerate(S):\n",
    "    tot = sum(Q[:, i_s] == np.max(Q[:, i_s]))\n",
    "    pi_new[i_s] = np.where(Q[:, i_s] == np.max(Q[:, i_s]), 1,0)/tot\n",
    "print(V_new)\n",
    "print(Q)\n",
    "print(pi_new)"
   ]
  },
  {
   "cell_type": "code",
   "execution_count": 40,
   "id": "8a9c38e8",
   "metadata": {},
   "outputs": [
    {
     "name": "stdout",
     "output_type": "stream",
     "text": [
      "[675.03598025 673.1805998  779.58380702]\n",
      "[[651.28418123 659.52156981 830.60461667]\n",
      " [646.28418123 669.52156981 820.60461667]\n",
      " [645.28418123 643.52156981 850.60461667]]\n",
      "[[1. 0. 0.]\n",
      " [0. 1. 0.]\n",
      " [0. 0. 1.]]\n"
     ]
    }
   ],
   "source": [
    "S = np.array([0, 1, 2]) # three states\n",
    "A = np.array([100, 200, 300]) # three decisions\n",
    "P = np.array([[[0.5, 0.4, 0.1],   # P given a=0\n",
    "              [0.8, 0.1, 0.1],\n",
    "              [0.2, 0.1, 0.7]], \n",
    "     \n",
    "             [[0.2, 0.2, 0.6],   # P given a=0\n",
    "              [0.4, 0.3, 0.3],\n",
    "              [0.5, 0.4, 0.1]], \n",
    " \n",
    "             [[0.1, 0.7, 0.2],   # P given a=0\n",
    "              [0.05, 0.9, 0.05],\n",
    "              [0.3, 0.2, 0.5]],\n",
    "             ])\n",
    "R = np.array([[10, 20, 90], \n",
    "               [5, 30, 80],\n",
    "              [4, 4, 110]])\n",
    "d = 0.95\n",
    "s0 = 0\n",
    "pi = np.array([[0.3, 0.5, 0.2], \n",
    "               [0.7, 0.2, 0.1], \n",
    "              [0.3, 0.4, 0.3]])\n",
    "\n",
    "pi_old = np.array([[0.4, 0.3, 0.3], \n",
    "                  [0.4, 0.3, 0.3],\n",
    "                  [0.4, 0.3, 0.3]])\n",
    "pi_new = np.empty((A.shape[0], S.shape[0]))\n",
    "Q = np.empty((A.shape[0], S.shape[0]))\n",
    "V_new = np.zeros(S.shape[0])\n",
    "V_old = np.ones(S.shape[0])\n",
    "HS = np.zeros(T+1).astype(int)\n",
    "HR = np.zeros(T).astype(int)\n",
    "HA = np.zeros(T).astype(int)\n",
    "HG = np.zeros(T).astype(int)\n",
    "HV = np.zeros(T).astype(int)\n",
    "HS[0] = s0\n",
    "\n",
    "# Find V of pi\n",
    "N = 1000 # iterations\n",
    "for i_n in range(N):\n",
    "    for i_s, s in enumerate(S):\n",
    "        V_new[i_s] = np.dot(pi_old[i_s], R[:, i_s] + d * np.dot(P[:, i_s, :], V_old))\n",
    "    V_old = V_new.copy()\n",
    "\n",
    "# Find Q of pi\n",
    "for i_s, s in enumerate(S):\n",
    "    for i_a, a in enumerate(A):\n",
    "        Q[i_a, i_s] = R[i_a, i_s] + d * np.sum(np.dot(P[i_a, i_s, :], V_new[i_s]))\n",
    "        \n",
    "# Update Poicy\n",
    "for i_s, s in enumerate(S):\n",
    "    tot = sum(Q[:, i_s] == np.max(Q[:, i_s]))\n",
    "    pi_new[i_s] = np.where(Q[:, i_s] == np.max(Q[:, i_s]), 1,0)/tot\n",
    "print(V_new)\n",
    "print(Q)\n",
    "print(pi_new)"
   ]
  }
 ],
 "metadata": {
  "kernelspec": {
   "display_name": "Python 3 (ipykernel)",
   "language": "python",
   "name": "python3"
  },
  "language_info": {
   "codemirror_mode": {
    "name": "ipython",
    "version": 3
   },
   "file_extension": ".py",
   "mimetype": "text/x-python",
   "name": "python",
   "nbconvert_exporter": "python",
   "pygments_lexer": "ipython3",
   "version": "3.10.8"
  }
 },
 "nbformat": 4,
 "nbformat_minor": 5
}
