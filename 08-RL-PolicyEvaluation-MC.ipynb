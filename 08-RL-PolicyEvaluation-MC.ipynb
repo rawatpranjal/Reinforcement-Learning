{
 "cells": [
  {
   "cell_type": "code",
   "execution_count": 5,
   "id": "290428c0",
   "metadata": {},
   "outputs": [],
   "source": [
    "import numpy as np\n",
    "import matplotlib.pyplot as plt\n",
    "plt.rcParams[\"figure.figsize\"] = (30, 10)\n",
    "plt.rcParams['font.size']=20"
   ]
  },
  {
   "cell_type": "code",
   "execution_count": 6,
   "id": "7e9497c8",
   "metadata": {},
   "outputs": [],
   "source": [
    "# Simple MDP\n",
    "S = np.array([0, 2]) \n",
    "A = np.array([100, 200])\n",
    "P = np.array([[[0.5, 0.5],   # P given a=0\n",
    "              [0.8, 0.2]], \n",
    "     \n",
    "             [[0.2, 0.8],   # P given a=0\n",
    "              [0.4, 0.6]]])\n",
    "R = np.array([[10, 90], \n",
    "               [5, 30]])\n",
    "d = 0.95\n",
    "s0 = 0\n",
    "\n",
    "def discountedSum(R, d):\n",
    "    sum = 0\n",
    "    for i, r in enumerate(R):\n",
    "        sum += R[i] * (d ** i)\n",
    "    return sum"
   ]
  },
  {
   "cell_type": "code",
   "execution_count": 10,
   "id": "13c56dc2",
   "metadata": {},
   "outputs": [
    {
     "ename": "IndexError",
     "evalue": "index 0 is out of bounds for axis 0 with size 0",
     "output_type": "error",
     "traceback": [
      "\u001b[0;31m---------------------------------------------------------------------------\u001b[0m",
      "\u001b[0;31mIndexError\u001b[0m                                Traceback (most recent call last)",
      "Cell \u001b[0;32mIn [10], line 21\u001b[0m\n\u001b[1;32m     18\u001b[0m HS[\u001b[38;5;241m0\u001b[39m] \u001b[38;5;241m=\u001b[39m s0\n\u001b[1;32m     20\u001b[0m \u001b[38;5;28;01mfor\u001b[39;00m t \u001b[38;5;129;01min\u001b[39;00m \u001b[38;5;28mrange\u001b[39m(T):\n\u001b[0;32m---> 21\u001b[0m     HA[t] \u001b[38;5;241m=\u001b[39m np\u001b[38;5;241m.\u001b[39mrandom\u001b[38;5;241m.\u001b[39mchoice(A, p \u001b[38;5;241m=\u001b[39m \u001b[43mpi\u001b[49m\u001b[43m[\u001b[49m\u001b[43mnp\u001b[49m\u001b[38;5;241;43m.\u001b[39;49m\u001b[43mwhere\u001b[49m\u001b[43m(\u001b[49m\u001b[43mS\u001b[49m\u001b[43m \u001b[49m\u001b[38;5;241;43m==\u001b[39;49m\u001b[43m \u001b[49m\u001b[43mHS\u001b[49m\u001b[43m[\u001b[49m\u001b[43mt\u001b[49m\u001b[43m]\u001b[49m\u001b[43m)\u001b[49m\u001b[43m]\u001b[49m\u001b[43m[\u001b[49m\u001b[38;5;241;43m0\u001b[39;49m\u001b[43m]\u001b[49m)\n\u001b[1;32m     22\u001b[0m     HS[t\u001b[38;5;241m+\u001b[39m\u001b[38;5;241m1\u001b[39m] \u001b[38;5;241m=\u001b[39m np\u001b[38;5;241m.\u001b[39mrandom\u001b[38;5;241m.\u001b[39mchoice(S, p \u001b[38;5;241m=\u001b[39m P[np\u001b[38;5;241m.\u001b[39mwhere(A \u001b[38;5;241m==\u001b[39m HA[t]), np\u001b[38;5;241m.\u001b[39mwhere(S \u001b[38;5;241m==\u001b[39m HS[t]), :][\u001b[38;5;241m0\u001b[39m][\u001b[38;5;241m0\u001b[39m])\n\u001b[1;32m     23\u001b[0m     HR[t] \u001b[38;5;241m=\u001b[39m R[np\u001b[38;5;241m.\u001b[39mwhere(A \u001b[38;5;241m==\u001b[39m HA[t]), np\u001b[38;5;241m.\u001b[39mwhere(S \u001b[38;5;241m==\u001b[39m HS[t])]\n",
      "\u001b[0;31mIndexError\u001b[0m: index 0 is out of bounds for axis 0 with size 0"
     ]
    }
   ],
   "source": [
    "# Simulate MDP with random policy\n",
    "\n",
    "# Random Policy\n",
    "pi = np.array([[0.5, 0.5], \n",
    "               [0.5, 0.5]])\n",
    "\n",
    "# initial state\n",
    "s0 = 1\n",
    "\n",
    "\n",
    "# Histories\n",
    "T = 1000\n",
    "HS = np.zeros(T+1).astype(int)\n",
    "HR = np.zeros(T).astype(int)\n",
    "HA = np.zeros(T).astype(int)\n",
    "HG = np.zeros(T).astype(int)\n",
    "HV = np.zeros(T).astype(int)\n",
    "HS[0] = s0\n",
    "\n",
    "for t in range(T):\n",
    "    HA[t] = np.random.choice(A, p = pi[np.where(S == HS[t])][0])\n",
    "    HS[t+1] = np.random.choice(S, p = P[np.where(A == HA[t]), np.where(S == HS[t]), :][0][0])\n",
    "    HR[t] = R[np.where(A == HA[t]), np.where(S == HS[t])]\n",
    "for t in range(0, T, 1):\n",
    "    HG[T-1-t] = discountedSum(HR[T-1-t:T], d)\n",
    "    \n",
    "\n",
    "plt.plot(HS[0:100], 'go--')\n",
    "plt.title('Realised State S[t]')\n",
    "plt.show()\n",
    "\n",
    "plt.plot(HA[0:100], 'go--')\n",
    "plt.title('Actions A[t]')\n",
    "plt.show()\n",
    "\n",
    "plt.plot(HR[0:100], 'go--')\n",
    "plt.title('Reward R[t]')\n",
    "plt.show()\n",
    "\n",
    "plt.plot(HG[0:100], 'go--')\n",
    "plt.title('Return G[t] = ')\n",
    "plt.show()"
   ]
  },
  {
   "cell_type": "code",
   "execution_count": null,
   "id": "62e942f8",
   "metadata": {},
   "outputs": [],
   "source": []
  }
 ],
 "metadata": {
  "kernelspec": {
   "display_name": "Python 3 (ipykernel)",
   "language": "python",
   "name": "python3"
  },
  "language_info": {
   "codemirror_mode": {
    "name": "ipython",
    "version": 3
   },
   "file_extension": ".py",
   "mimetype": "text/x-python",
   "name": "python",
   "nbconvert_exporter": "python",
   "pygments_lexer": "ipython3",
   "version": "3.10.8"
  }
 },
 "nbformat": 4,
 "nbformat_minor": 5
}
